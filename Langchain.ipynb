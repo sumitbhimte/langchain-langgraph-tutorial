{
  "cells": [
    {
      "cell_type": "code",
      "execution_count": null,
      "metadata": {
        "colab": {
          "base_uri": "https://localhost:8080/"
        },
        "collapsed": true,
        "id": "x-9OWopHO7vE",
        "outputId": "85500fe3-5559-4289-fedb-15e549fc23f9"
      },
      "outputs": [],
      "source": [
        "pip install google-generativeai"
      ]
    },
    {
      "cell_type": "code",
      "execution_count": null,
      "metadata": {
        "colab": {
          "base_uri": "https://localhost:8080/"
        },
        "collapsed": true,
        "id": "FUUYSOtgQ40f",
        "outputId": "211b8bf4-2091-4954-e758-751c432cbb20"
      },
      "outputs": [],
      "source": [
        "pip install langchain"
      ]
    },
    {
      "cell_type": "code",
      "execution_count": null,
      "metadata": {
        "colab": {
          "base_uri": "https://localhost:8080/"
        },
        "collapsed": true,
        "id": "pC4Z9h-1RBY4",
        "outputId": "bdb7c243-c780-4dd9-d0ed-0a579a6fe9ca"
      },
      "outputs": [],
      "source": [
        "pip install google-cloud-aiplatform langchain-google-vertexai"
      ]
    },
    {
      "cell_type": "code",
      "execution_count": null,
      "metadata": {
        "colab": {
          "base_uri": "https://localhost:8080/",
          "height": 1000
        },
        "collapsed": true,
        "id": "LI6XiGl0SbTs",
        "outputId": "1e1a76e1-8ad3-4430-cb71-c5ae30c0873d"
      },
      "outputs": [],
      "source": [
        "!pip install langchain_google_genai"
      ]
    },
    {
      "cell_type": "code",
      "execution_count": null,
      "metadata": {
        "colab": {
          "base_uri": "https://localhost:8080/"
        },
        "collapsed": true,
        "id": "mu4wPN7bfS-E",
        "outputId": "232cc195-7387-4c97-ff53-102aadf6a5e3"
      },
      "outputs": [],
      "source": [
        "!pip install -U langchain-community"
      ]
    },
    {
      "cell_type": "code",
      "execution_count": null,
      "metadata": {
        "colab": {
          "base_uri": "https://localhost:8080/"
        },
        "collapsed": true,
        "id": "-T7HXFYNfXbc",
        "outputId": "c7f8842b-a241-4ac7-a906-a5f9382bf5d7"
      },
      "outputs": [],
      "source": [
        "pip install langchain langchain-google-vertexai wikipedia"
      ]
    },
    {
      "cell_type": "markdown",
      "metadata": {
        "id": "n52Np1ImYRIq"
      },
      "source": [
        "# Basic LangChain"
      ]
    },
    {
      "cell_type": "code",
      "execution_count": null,
      "metadata": {
        "colab": {
          "base_uri": "https://localhost:8080/",
          "height": 785
        },
        "id": "4BIR35MlP0ZA",
        "outputId": "38493e5a-35f7-4e10-e078-a8cb7889e1d6"
      },
      "outputs": [
        {
          "name": "stdout",
          "output_type": "stream",
          "text": [
            "## Fancy Names for an Italian Restaurant:\n",
            "\n",
            "**Evoking Elegance & Tradition:**\n",
            "\n",
            "*  Casa di Luna (House of the Moon)\n",
            "*  La Bella Tavola (The Beautiful Table)\n",
            "*  Trattoria del Sole (Trattoria of the Sun)\n",
            "*  Il Giardino Segreto (The Secret Garden)\n",
            "*  Ristorante Fiorentino (Florentine Restaurant) -  if specializing in Florentine cuisine\n",
            "*  Amici di Venezia (Friends of Venice) - if Venetian-inspired\n",
            "*  Palazzo Vecchio (Old Palace)\n",
            "*  La Vigna Dorata (The Golden Vineyard)\n",
            "\n",
            "\n",
            "**More Modern & Chic:**\n",
            "\n",
            "*  Amalfi Coast Kitchen\n",
            "*  Cinque Terre Cucina\n",
            "*  Nero & Oro (Black & Gold)\n",
            "*  Sotto le Stelle (Under the Stars)\n",
            "*  The Roman Table\n",
            "*  Aperitivo & Co.\n",
            "*  The Olive & Vine\n",
            "*  Basil & Bloom\n",
            "\n",
            "\n",
            "**Names with a Playful Twist:**\n",
            "\n",
            "*  Pasta La Vista, Baby! (Slightly cheeky, but memorable)\n",
            "*  Buon Appetito Bistro\n",
            "*  Mangia! (Eat!) - simple, yet effective\n",
            "*  The Little Italy\n",
            "\n",
            "\n",
            "**Before choosing, consider:**\n",
            "\n",
            "* **Your restaurant's specific style:** Is it rustic, modern, romantic, etc.?\n",
            "* **Your target audience:** Who are you trying to attract?\n",
            "* **The availability of the name and domain name:** Check for trademark conflicts and website availability.\n",
            "\n",
            "\n",
            "Remember to check for existing restaurants with similar names in your area to avoid confusion. Good luck!\n",
            "\n"
          ]
        }
      ],
      "source": [
        "import google.generativeai as genai\n",
        "\n",
        "# Set your API key\n",
        "genai.configure(api_key=\"xxxx\")\n",
        "\n",
        "# Initialize model\n",
        "model = genai.GenerativeModel('gemini-1.5-flash')\n",
        "\n",
        "# Generate a name\n",
        "response = model.generate_content(\"I want to open a restaurant for Italian food. Suggest a fancy name for this.\")\n",
        "\n",
        "# Print the result\n",
        "print(response.text)\n"
      ]
    },
    {
      "cell_type": "code",
      "execution_count": null,
      "metadata": {
        "colab": {
          "base_uri": "https://localhost:8080/"
        },
        "id": "GLnc3RD3QD9q",
        "outputId": "b3ebaa45-809e-4513-f67a-2671555ddaec"
      },
      "outputs": [
        {
          "name": "stdout",
          "output_type": "stream",
          "text": [
            "I want to open a restaurant for Indian food. Suggest a fancy name\n"
          ]
        }
      ],
      "source": [
        "from langchain.prompts import PromptTemplate\n",
        "\n",
        "prompt_template_name = PromptTemplate(\n",
        "    input_variables=['cuisine'],\n",
        "    template=\"I want to open a restaurant for {cuisine} food. Suggest a fancy name\"\n",
        ")\n",
        "\n",
        "# Format the prompt with a specific cuisine\n",
        "formatted_prompt = prompt_template_name.format(cuisine=\"Indian\")\n",
        "\n",
        "print(formatted_prompt)\n"
      ]
    },
    {
      "cell_type": "code",
      "execution_count": null,
      "metadata": {
        "collapsed": true,
        "id": "D_0hnXVHQj3w"
      },
      "outputs": [],
      "source": [
        "from langchain.chains import LLMChain\n",
        "from langchain_google_genai import ChatGoogleGenerativeAI\n",
        "from langchain.chains import SequentialChain\n",
        "# Use the LangChain wrapper for the Gemini model\n",
        "llm = ChatGoogleGenerativeAI(model=\"gemini-1.5-flash\", google_api_key=\"xxxx\")\n"
      ]
    },
    {
      "cell_type": "code",
      "execution_count": null,
      "metadata": {
        "colab": {
          "base_uri": "https://localhost:8080/"
        },
        "id": "1Jd0TfzLRh-a",
        "outputId": "f5899f51-82c3-43fe-9e51-454a487f5558"
      },
      "outputs": [
        {
          "name": "stderr",
          "output_type": "stream",
          "text": [
            "/tmp/ipython-input-251896131.py:9: LangChainDeprecationWarning: The class `LLMChain` was deprecated in LangChain 0.1.17 and will be removed in 1.0. Use :meth:`~RunnableSequence, e.g., `prompt | llm`` instead.\n",
            "  restaurent_chain = LLMChain(\n",
            "/tmp/ipython-input-251896131.py:35: LangChainDeprecationWarning: The method `Chain.__call__` was deprecated in langchain 0.1.0 and will be removed in 1.0. Use :meth:`~invoke` instead.\n",
            "  response = chain({\"cuisine\": \"Indian\"})\n"
          ]
        },
        {
          "name": "stdout",
          "output_type": "stream",
          "text": [
            "\n",
            "\n",
            "\u001b[1m> Entering new SequentialChain chain...\u001b[0m\n",
            "\n",
            "\u001b[1m> Finished chain.\u001b[0m\n",
            "{'cuisine': 'Indian', 'restaurent_name': 'Masala Trails', 'menu_items': \"Masala Trails suggests a journey through Indian cuisine.  Therefore, the menu should reflect regional diversity and offer a range of flavors and spice levels. Here are some menu item suggestions, categorized for clarity:\\n\\n**Starters/Appetizers:**\\n\\n* **North Indian:**  Paneer Tikka (classic), Dahi Puri (tangy), Aloo Tikki Chaat (savory), Samosas (with chutney options)\\n* **South Indian:**  Idli Sambar (light & flavorful), Masala Dosa (crispy crepe), Medu Vada (savory lentil fritter)\\n* **West Indian:**  Sev Puri (crispy & spicy), Dabeli (sweet & spicy potato patty)\\n* **East Indian:**  Fish Paturi (steamed fish in banana leaf), Kosha Mangsho (mutton curry)\\n\\n\\n**Main Courses:**\\n\\n* **North Indian:** Butter Chicken (creamy tomato-based), Rogan Josh (Kashmiri lamb curry), Dal Makhani (creamy black lentil), Palak Paneer (spinach & cheese)  – offer both vegetarian and non-vegetarian options.\\n* **South Indian:**  Chicken Chettinad (spicy South Indian curry), Fish Molee (coconut milk based curry), Vegetable Biryani (mixed vegetable rice), Sambar (lentil stew)\\n* **West Indian:**  Laal Maas (Rajasthani spicy lamb), Undhiyu (mixed vegetable curry)\\n* **East Indian:**  Chingri Malai Curry (prawns in coconut milk), Kosha Mangsho (mutton curry), Aloo Posto (potato & poppy seed curry)\\n\\n\\n**Breads/Sides:**\\n\\n* Naan (plain, garlic, butter)\\n* Roti (plain flatbread)\\n* Paratha (layered flatbread)\\n* Rice (plain, Jeera rice, biryani rice)\\n* Raita (yogurt based side dish)\\n* Papad (crispy lentil wafers)\\n\\n\\n**Desserts:**\\n\\n* Gulab Jamun (deep-fried milk balls in syrup)\\n* Rasmalai (cheese patties in sweetened milk)\\n* Kulfi (Indian ice cream)\\n* Jalebi (crispy fried spirals in syrup)\\n* Mango Lassi (yogurt drink)\\n\\n\\n**Drinks:**\\n\\n* Masala Chai (spiced tea)\\n* Mango Lassi (yogurt drink)\\n* Lassi (plain or salted)\\n* Selection of Indian beers and wines (if applicable)\\n\\n\\n**Consider adding:**\\n\\n* **Spice Level Indicators:**  Clearly indicate the spice level of each dish (mild, medium, hot, extra hot).\\n* **Vegetarian/Vegan Options:**  Highlight vegetarian and vegan choices clearly.\\n* **Regional Descriptions:**  Provide brief descriptions of each dish's origin and key ingredients.\\n* **Tasting Menus:** Offer a tasting menu to showcase a variety of regional flavors.\\n* **Seasonal Specials:**  Introduce seasonal dishes to keep the menu fresh and exciting.\\n\\n\\nRemember to tailor the menu to your target audience and the resources available.  Good luck!\"}\n"
          ]
        }
      ],
      "source": [
        "# from langchain.prompts import PromptTemplate\n",
        "# from langchain.chains import LLMChain, SequentialChain\n",
        "\n",
        "# 1. Restaurant name generator chain\n",
        "prompt_template_name = PromptTemplate(\n",
        "    input_variables=['cuisine'],\n",
        "    template=\"I want to open a restaurant for {cuisine} food. Suggest only 1 name\"\n",
        ")\n",
        "restaurent_chain = LLMChain(\n",
        "    llm=llm,\n",
        "    prompt=prompt_template_name,\n",
        "    output_key=\"restaurent_name\"  # <- required for sequential chaining\n",
        ")\n",
        "\n",
        "# 2. Menu item generator chain\n",
        "prompt_template_items = PromptTemplate(\n",
        "    input_variables=['restaurent_name'],\n",
        "    template=\"Suggest some menu items for {restaurent_name}\"\n",
        ")\n",
        "food_items_chain = LLMChain(\n",
        "    llm=llm,\n",
        "    prompt=prompt_template_items,\n",
        "    output_key=\"menu_items\"  # <- final output\n",
        ")\n",
        "\n",
        "# 3. Combine into SequentialChain\n",
        "chain = SequentialChain(\n",
        "    chains=[restaurent_chain, food_items_chain],\n",
        "    input_variables=[\"cuisine\"],                    # input to first chain\n",
        "    output_variables=[\"restaurent_name\", \"menu_items\"],  # final outputs\n",
        "    verbose=True\n",
        ")\n",
        "\n",
        "# 4. Run the chain\n",
        "response = chain({\"cuisine\": \"Indian\"})\n",
        "print(response)\n"
      ]
    },
    {
      "cell_type": "code",
      "execution_count": null,
      "metadata": {
        "colab": {
          "base_uri": "https://localhost:8080/"
        },
        "collapsed": true,
        "id": "203cc0f5",
        "outputId": "5f78fe95-c63e-4c18-f95c-bcc7caece5c1"
      },
      "outputs": [],
      "source": [
        "pip install langchain langchain-google-vertexai wikipedia"
      ]
    },
    {
      "cell_type": "code",
      "execution_count": null,
      "metadata": {
        "colab": {
          "base_uri": "https://localhost:8080/"
        },
        "collapsed": true,
        "id": "6C3fA91OkzGL",
        "outputId": "b2405dba-5fde-4837-dfbf-9e56643644c0"
      },
      "outputs": [],
      "source": [
        "pip install -U langchain-community"
      ]
    },
    {
      "cell_type": "markdown",
      "metadata": {
        "id": "p_OrSNqZYL7M"
      },
      "source": [
        "# LangChain with Tools"
      ]
    },
    {
      "cell_type": "code",
      "execution_count": null,
      "metadata": {
        "colab": {
          "base_uri": "https://localhost:8080/"
        },
        "id": "T9gp48UPkeiU",
        "outputId": "2195eaa3-d732-4332-fe40-d8f62d1c308b"
      },
      "outputs": [
        {
          "name": "stderr",
          "output_type": "stream",
          "text": [
            "/tmp/ipython-input-3129840801.py:27: LangChainDeprecationWarning: LangChain agents will continue to be supported, but it is recommended for new use cases to be built with LangGraph. LangGraph offers a more flexible and full-featured framework for building agents, including support for tool-calling, persistence of state, and human-in-the-loop workflows. For details, refer to the `LangGraph documentation <https://langchain-ai.github.io/langgraph/>`_ as well as guides for `Migrating from AgentExecutor <https://python.langchain.com/docs/how_to/migrate_agent/>`_ and LangGraph's `Pre-built ReAct agent <https://langchain-ai.github.io/langgraph/how-tos/create-react-agent/>`_.\n",
            "  agent = initialize_agent(\n",
            "/tmp/ipython-input-3129840801.py:35: LangChainDeprecationWarning: The method `Chain.run` was deprecated in langchain 0.1.0 and will be removed in 1.0. Use :meth:`~invoke` instead.\n",
            "  response = agent.run(\"Who is the president of India? and calculate her age\")\n"
          ]
        },
        {
          "name": "stdout",
          "output_type": "stream",
          "text": [
            "\n",
            "\n",
            "\u001b[1m> Entering new AgentExecutor chain...\u001b[0m\n",
            "\u001b[32;1m\u001b[1;3mThought: I need to find out who the president of India is using Wikipedia, and then I need to find her birthdate to calculate her age.  I'll need to use Wikipedia for the name and birthdate, and then basic_math to calculate her age.\n",
            "\n",
            "Action: wikipedia\n",
            "Action Input: President of India\u001b[0m\n",
            "Observation: \u001b[36;1m\u001b[1;3mPage: President of India\n",
            "Summary: The president of India  (ISO: Bhārata kē Rāṣṭrapati) is the head of state of the Republic of India. The president is the nominal head of the executive, the first citizen of the country, and the supreme commander of the Indian Armed Forces. Droupadi Murmu is the 15th and current president, having taken office on 25 July 2022.\n",
            "The office of president was created when India's  constitution came into force and it became a republic on 26 January 1950. The president is indirectly elected by an electoral college comprising both houses of the Parliament of India and the legislative assemblies of each of India's states and territories, who themselves are all directly elected by the citizens.\n",
            "The President ranks 1st in the Order of Precedence of India as per Article 53 of the Constitution of India states that the president can exercise their powers directly or by subordinate authority, though all of the executive powers vested in the president are, in practice, exercised by the prime minister heading the Council of Ministers. The president is bound by the constitution to act on the advice of the council and to enforce the decrees passed by the Supreme Court under article 142.\n",
            "\n",
            "Page: Vice President of India\n",
            "Summary: The Vice President of India (ISO: Bhārata kē Uparāṣṭrapati) is the deputy to the head of state of the Republic of India, i.e. the president of India. The office of vice president is the second-highest constitutional office after the president and first in the line of succession to the presidency. \n",
            "The vice president is the Chairman of the Rajya Sabha and ranks 2nd in the Order of Precedence of India.\n",
            "Article 66 of the Constitution of India states the manner of election of the vice president. The vice president is elected indirectly by members of an electoral college consisting of the members of both Houses of Parliament and not the members of state legislative assembly by the system of proportional representation using single transferable votes and the voting is conducted by Election Commission of India via secret ballot.\n",
            "The vice president is also the Chancellor of the Panjab University and University of Delhi and also Visitor of Makhanlal National University. The position holder also serves as President of Indian Institute of Public Administration.\n",
            "\n",
            "Page: List of presidents of India\n",
            "Summary: The president of India is the head of state of the Republic of India and the supreme commander of the Indian Armed Forces. The president is referred to as the first citizen of India. Although vested with these powers by the Constitution of India, the position is largely a ceremonial one and executive powers are de facto exercised by the prime minister.\n",
            "The president is elected by the Electoral College composed of elected members of the parliament houses, the Lok Sabha and the Rajya Sabha, and also members of the Saasana Sabha or Vidhan Sabha, the state legislative assemblies. Presidents may remain in office for a tenure of five years, as stated by article 56, part V, of the Constitution of India. In the case where a president's term of office is terminated early or during the absence of the president, the vice president assumes office. By article 70 of part V, the parliament may decide how to discharge the functions of the president where this is not possible, or in any other unexpected contingency.\n",
            "There have been 15 presidents of India since the post was established when India was declared as a republic with the adoption of the Indian constitution in 1950. Apart from these fifteen, three acting presidents have also been in office for short periods of time. V. V. Giri became the acting president in 1969 after Zakir Husain died in office. Giri was elected president a few months later. He remains the only person to have held office both as a president and acting president. Rajendra Prasad, the first president of India, is the only person to have held office for two terms.\n",
            "Seven presidents have been membe\u001b[0m\n",
            "Thought:\u001b[32;1m\u001b[1;3mThought: I found the current president's name. Now I need to find her birthdate to calculate her age.\n",
            "\n",
            "Action: wikipedia\n",
            "Action Input: Droupadi Murmu\u001b[0m\n",
            "Observation: \u001b[36;1m\u001b[1;3mPage: Droupadi Murmu\n",
            "Summary: Droupadi Murmu (born Durgi Biranchi Tudu; 20 June 1958) is an Indian politician who is serving as the  president of India since 2022. She won the 2022 presidential election as the Bharatiya Janata Party (BJP) candidate. She is the first person belonging to a tribal community and also the second woman, after Pratibha Patil, to hold the office. She is also the youngest person to occupy the post (at 64) and the first president born in independent India.\n",
            "Previously, she served as the  governor of Jharkhand from 2015 to 2021, being the longest-serving governor for that state, as a member of the Odisha Legislative Assembly from Rairangpur Assembly constituency from 2000 to 2009, and as minister of State (Independent Charge), Government of Odisha, from 2000 to 2004. Before entering politics, she worked as a clerk in the State Irrigation and Power Department from 1979 to 1983, and then as a teacher in Rairangpur from 1994 until 1997.\n",
            "\n",
            "\n",
            "\n",
            "Page: Presidency of Droupadi Murmu\n",
            "Summary: The presidency of Droupadi Murmu began on 25 July 2022, after she took the oath as the 15th President of India, administered by Chief Justice N. V. Ramana. She was the Bharatiya Janata Party (BJP)-led National Democratic Alliance (NDA) nominee and defeated the United Opposition nominee and former Minister of Finance, Yashwant Sinha. Prior to being the presidential nominee, she was the Governor of Jharkhand and a minister in Odisha Government.\n",
            "\n",
            "Page: 2022 Indian presidential election\n",
            "Summary: The 2022 Indian presidential election was the 16th presidential election in India held on 18 July 2022 to elect the president of India. The incumbent president Ram Nath Kovind did not run for reelection. The election had a turnout of 99.12%.\n",
            "Bharatiya Janata Party candidate Droupadi Murmu won the election by a margin of 296,626 votes against Yashwant Sinha, the United Opposition candidate. Murmu became the first member of a Scheduled Tribe and second woman to become president, as well as the first president born after independence.\u001b[0m\n",
            "Thought:\u001b[32;1m\u001b[1;3mThought: I have the president's name and birthdate. Now I can calculate her age.\n",
            "\n",
            "Action: basic_math\n",
            "Action Input: 2024 - 1958\u001b[0m\n",
            "Observation: \u001b[33;1m\u001b[1;3m66\u001b[0m\n",
            "Thought:\u001b[32;1m\u001b[1;3mThought: I now know the final answer.\n",
            "Final Answer: The president of India is Droupadi Murmu, and her age in 2024 is 66.\u001b[0m\n",
            "\n",
            "\u001b[1m> Finished chain.\u001b[0m\n",
            "The president of India is Droupadi Murmu, and her age in 2024 is 66.\n"
          ]
        }
      ],
      "source": [
        "from langchain.agents import AgentType, initialize_agent, load_tools\n",
        "from langchain_google_vertexai import ChatVertexAI\n",
        "import os\n",
        "\n",
        "# Initialize Gemini (e.g., Gemini 1.5 Flash)\n",
        "llm = ChatGoogleGenerativeAI(model=\"gemini-1.5-flash\", google_api_key=\"xxxx\")\n",
        "\n",
        "from langchain.tools import Tool\n",
        "\n",
        "def basic_math_tool(query: str) -> str:\n",
        "    try:\n",
        "        return str(eval(query))\n",
        "    except:\n",
        "        return \"Error evaluating math expression.\"\n",
        "\n",
        "math_tool = Tool(\n",
        "    name=\"basic_math\",\n",
        "    func=basic_math_tool,\n",
        "    description=\"Performs basic math. Input should be a valid Python expression like '2 + 2'.\"\n",
        ")\n",
        "\n",
        "\n",
        "# Load only tools that do not depend on OpenAI\n",
        "tools = load_tools([\"wikipedia\"]) + [math_tool] # You can add custom tools if needed\n",
        "\n",
        "# Initialize agent\n",
        "agent = initialize_agent(\n",
        "    tools=tools,\n",
        "    llm=llm,\n",
        "    agent=AgentType.ZERO_SHOT_REACT_DESCRIPTION,\n",
        "    verbose=True\n",
        ")\n",
        "\n",
        "# Run a test\n",
        "response = agent.run(\"Who is the president of India? and calculate her age\")\n",
        "print(response)\n"
      ]
    },
    {
      "cell_type": "code",
      "execution_count": null,
      "metadata": {
        "colab": {
          "base_uri": "https://localhost:8080/"
        },
        "id": "wGWZQ1Ztkm1W",
        "outputId": "ce8515ff-4a6a-4910-ef13-853e5a3ccc80"
      },
      "outputs": [
        {
          "name": "stdout",
          "output_type": "stream",
          "text": [
            "['Agent', 'AgentExecutor', 'AgentExecutorIterator', 'AgentOutputParser', 'AgentType', 'Any', 'BaseMultiActionAgent', 'BaseSingleActionAgent', 'ConversationalAgent', 'ConversationalChatAgent', 'DEPRECATED_CODE', 'DEPRECATED_LOOKUP', 'LLMSingleActionAgent', 'MRKLChain', 'OpenAIFunctionsAgent', 'OpenAIMultiFunctionsAgent', 'Path', 'ReActChain', 'ReActTextWorldAgent', 'SelfAskWithSearchChain', 'StructuredChatAgent', 'TYPE_CHECKING', 'Tool', 'XMLAgent', 'ZeroShotAgent', '__all__', '__builtins__', '__cached__', '__doc__', '__file__', '__getattr__', '__loader__', '__name__', '__package__', '__path__', '__spec__', '_import_attribute', 'agent', 'agent_iterator', 'agent_toolkits', 'agent_types', 'as_import_path', 'chat', 'conversational', 'conversational_chat', 'create_importer', 'create_json_chat_agent', 'create_openai_functions_agent', 'create_openai_tools_agent', 'create_react_agent', 'create_self_ask_with_search_agent', 'create_structured_chat_agent', 'create_tool_calling_agent', 'create_vectorstore_agent', 'create_vectorstore_router_agent', 'create_xml_agent', 'format_scratchpad', 'initialize', 'initialize_agent', 'json_chat', 'load_agent', 'load_tools', 'loading', 'mrkl', 'openai_functions_agent', 'openai_functions_multi_agent', 'openai_tools', 'output_parsers', 'react', 'self_ask_with_search', 'structured_chat', 'tool', 'tool_calling_agent', 'tools', 'types', 'utils', 'xml']\n"
          ]
        }
      ],
      "source": [
        "import langchain.agents as agents\n",
        "print(dir(agents))  # Check if 'load_tools' is listed"
      ]
    },
    {
      "cell_type": "markdown",
      "metadata": {
        "id": "il_2QZXtYA0y"
      },
      "source": [
        "# Simple LangGraph (linear graph)\n",
        " - here it will convert usd to inr\n",
        " - It is having 2 nodes and 3 edges"
      ]
    },
    {
      "cell_type": "code",
      "execution_count": null,
      "metadata": {
        "colab": {
          "base_uri": "https://localhost:8080/"
        },
        "collapsed": true,
        "id": "0qUaO043Zshu",
        "outputId": "8ee3a06c-5750-4df5-e4f9-6de56630367f"
      },
      "outputs": [],
      "source": [
        "!pip install langgraph"
      ]
    },
    {
      "cell_type": "code",
      "execution_count": null,
      "metadata": {
        "id": "IGPHFeg7myul"
      },
      "outputs": [],
      "source": [
        "from typing import TypedDict\n",
        "\n",
        "class PortfolioState(TypedDict):\n",
        "    amount_usd: float\n",
        "    total_usd: float\n",
        "    total_amt: float"
      ]
    },
    {
      "cell_type": "code",
      "execution_count": null,
      "metadata": {
        "id": "G_1An-nWs8te"
      },
      "outputs": [],
      "source": [
        "myobj = PortfolioState(amount_usd=100, amount_inr=200, total_amt=300)"
      ]
    },
    {
      "cell_type": "code",
      "execution_count": null,
      "metadata": {
        "id": "A-1mMgRrtRj6"
      },
      "outputs": [],
      "source": [
        "def calc_total(state: PortfolioState) -> PortfolioState:\n",
        "  state['total_usd'] = state['amount_usd'] * 1.08\n",
        "  return state\n",
        "\n",
        "def convert_to_inr(state: PortfolioState) -> PortfolioState:\n",
        "  state['total_amt'] = state['total_usd'] * 85\n",
        "  return state"
      ]
    },
    {
      "cell_type": "code",
      "execution_count": null,
      "metadata": {
        "id": "pjNvPzUSVn2R"
      },
      "outputs": [],
      "source": [
        "from langgraph.graph import StateGraph, START, END\n",
        "builder = StateGraph(PortfolioState)\n",
        "builder.add_node(\"calc_total_node\", calc_total)\n",
        "builder.add_node(\"convert_to_inr_node\", convert_to_inr)\n",
        "builder.add_edge(START, \"calc_total_node\")\n",
        "builder.add_edge(\"calc_total_node\", \"convert_to_inr_node\")\n",
        "builder.add_edge(\"convert_to_inr_node\", END)\n",
        "\n",
        "graph = builder.compile()"
      ]
    },
    {
      "cell_type": "code",
      "execution_count": null,
      "metadata": {
        "colab": {
          "base_uri": "https://localhost:8080/",
          "height": 350
        },
        "id": "hQpywgW0XInr",
        "outputId": "581b10b8-e30a-4b3f-cf6c-ab750470325c"
      },
      "outputs": [
        {
          "data": {
            "image/png": "[encoded data removed]",
            "text/plain": [
              "<IPython.core.display.Image object>"
            ]
          },
          "metadata": {},
          "output_type": "display_data"
        }
      ],
      "source": [
        "from IPython.display import Image, display\n",
        "display(Image(graph.get_graph().draw_mermaid_png()))"
      ]
    },
    {
      "cell_type": "code",
      "execution_count": null,
      "metadata": {
        "colab": {
          "base_uri": "https://localhost:8080/"
        },
        "id": "qJr1sOC2Xp3V",
        "outputId": "dc16cb29-c543-46e4-8575-908b6336c16c"
      },
      "outputs": [
        {
          "data": {
            "text/plain": [
              "{'amount_usd': 100, 'total_usd': 108.0, 'total_amt': 9180.0}"
            ]
          },
          "execution_count": 23,
          "metadata": {},
          "output_type": "execute_result"
        }
      ],
      "source": [
        "graph.invoke({\"amount_usd\": 100})"
      ]
    },
    {
      "cell_type": "markdown",
      "metadata": {
        "id": "OVcFySXAZxo0"
      },
      "source": [
        "# Conditional LangGraph\n",
        "- It will convert the to different currency based on the user input"
      ]
    },
    {
      "cell_type": "code",
      "execution_count": null,
      "metadata": {
        "id": "CrJ1gMKRYemQ"
      },
      "outputs": [],
      "source": [
        "from typing import TypedDict, Literal\n",
        "\n",
        "class PortfolioState(TypedDict):\n",
        "    amount_usd: float\n",
        "    total_usd: float\n",
        "    total: float\n",
        "    target_currency : Literal[\"INR\", \"EUR\"]"
      ]
    },
    {
      "cell_type": "code",
      "execution_count": null,
      "metadata": {
        "id": "j5OhY2XdbjN-"
      },
      "outputs": [],
      "source": [
        "def calc_total(state: PortfolioState) -> PortfolioState:\n",
        "  state['total_usd'] = state['amount_usd'] * 1.08\n",
        "  return state\n",
        "\n",
        "def convert_to_inr(state: PortfolioState) -> PortfolioState:\n",
        "  state['total'] = state['total_usd'] * 85\n",
        "  return state\n",
        "\n",
        "def convert_to_eur(state: PortfolioState) -> PortfolioState:\n",
        "  state['total'] = state['total_usd'] * .95\n",
        "  return state\n",
        "\n",
        "def choose_conversion(state: PortfolioState) -> str:\n",
        "  return state['target_currency']"
      ]
    },
    {
      "cell_type": "code",
      "execution_count": null,
      "metadata": {
        "id": "ql0x6cuDb-Ki"
      },
      "outputs": [],
      "source": [
        "from langgraph.graph import StateGraph, START, END\n",
        "builder = StateGraph(PortfolioState)\n",
        "builder.add_node(\"calc_total_node\", calc_total)\n",
        "builder.add_node(\"convert_to_inr_node\", convert_to_inr)\n",
        "builder.add_node(\"convert_to_eur_node\", convert_to_eur)\n",
        "\n",
        "builder.add_edge(START, \"calc_total_node\")\n",
        "builder.add_conditional_edges(\n",
        "    \"calc_total_node\",\n",
        "    choose_conversion,\n",
        "    {\n",
        "        \"INR\": \"convert_to_inr_node\",\n",
        "        \"EUR\": \"convert_to_eur_node\"\n",
        "    }\n",
        ")\n",
        "\n",
        "builder.add_edge([\"convert_to_inr_node\", \"convert_to_eur_node\"], END)\n",
        "\n",
        "graph = builder.compile()"
      ]
    },
    {
      "cell_type": "code",
      "execution_count": null,
      "metadata": {
        "colab": {
          "base_uri": "https://localhost:8080/",
          "height": 374
        },
        "id": "d_1_tAUAdunl",
        "outputId": "124e849d-9545-4853-c460-411b5fdf2608"
      },
      "outputs": [
        {
          "data": {
            "image/png": "[encoded data removed]",
            "text/plain": [
              "<IPython.core.display.Image object>"
            ]
          },
          "metadata": {},
          "output_type": "display_data"
        }
      ],
      "source": [
        "from IPython.display import Image, display\n",
        "display(Image(graph.get_graph().draw_mermaid_png()))"
      ]
    },
    {
      "cell_type": "code",
      "execution_count": null,
      "metadata": {
        "colab": {
          "base_uri": "https://localhost:8080/"
        },
        "id": "pJR0mKDrd3fx",
        "outputId": "713a67e1-d6c9-401a-b0a5-dd462342fc45"
      },
      "outputs": [
        {
          "data": {
            "text/plain": [
              "{'amount_usd': 100,\n",
              " 'total_usd': 108.0,\n",
              " 'total': 102.6,\n",
              " 'target_currency': 'EUR'}"
            ]
          },
          "execution_count": 34,
          "metadata": {},
          "output_type": "execute_result"
        }
      ],
      "source": [
        "graph.invoke({\"amount_usd\": 100, \"target_currency\": \"EUR\"})"
      ]
    },
    {
      "cell_type": "markdown",
      "metadata": {
        "id": "DC_XMY3zhBFY"
      },
      "source": [
        "# Chatbot"
      ]
    },
    {
      "cell_type": "markdown",
      "metadata": {
        "id": "2JBeyBn3_Y06"
      },
      "source": [
        "## Simple Chatbot"
      ]
    },
    {
      "cell_type": "code",
      "execution_count": null,
      "metadata": {
        "id": "VW4kuPuBwd_O"
      },
      "outputs": [],
      "source": [
        "from typing_extensions import TypedDict\n",
        "from langchain.chat_models import init_chat_model\n",
        "from langgraph.graph import StateGraph, START, END\n",
        "from langgraph.graph.message import add_messages\n",
        "from typing import Annotated"
      ]
    },
    {
      "cell_type": "code",
      "execution_count": null,
      "metadata": {
        "colab": {
          "base_uri": "https://localhost:8080/",
          "height": 251
        },
        "id": "tdfCtx3bePy3",
        "outputId": "d2786b40-0371-47f7-9acd-74b6a35da4c4"
      },
      "outputs": [
        {
          "data": {
            "image/png": "[encoded data removed]",
            "text/plain": [
              "<IPython.core.display.Image object>"
            ]
          },
          "metadata": {},
          "output_type": "display_data"
        }
      ],
      "source": [
        "from langchain.agents import AgentType, initialize_agent, load_tools\n",
        "from langchain_google_vertexai import ChatVertexAI\n",
        "from langchain_google_genai import ChatGoogleGenerativeAI\n",
        "import os\n",
        "\n",
        "# Initialize Gemini (e.g., Gemini 1.5 Flash)\n",
        "llm = ChatGoogleGenerativeAI(model=\"gemini-1.5-flash\", google_api_key=\"xxxx\")\n",
        "\n",
        "# llm.invoke(\"who invented gravity\")\n",
        "\n",
        "\n",
        "class State(TypedDict):\n",
        "  messages: Annotated [list, add_messages]\n",
        "\n",
        "def chatbot(state: State) -> State:\n",
        "  return {\"messages\": [llm.invoke(state[\"messages\"]) ]}\n",
        "\n",
        "builder = StateGraph(State)\n",
        "builder.add_node(\"chatbot_node\", chatbot)\n",
        "builder.add_edge(START, \"chatbot_node\")\n",
        "builder.add_edge(\"chatbot_node\", END)\n",
        "graph = builder.compile()\n",
        "\n",
        "from IPython.display import Image, display\n",
        "display(Image(graph.get_graph().draw_mermaid_png()))\n"
      ]
    },
    {
      "cell_type": "code",
      "execution_count": null,
      "metadata": {
        "colab": {
          "base_uri": "https://localhost:8080/"
        },
        "id": "IiAimsbpe2-O",
        "outputId": "5125bade-65ca-41a2-c2b9-e790472fb47e"
      },
      "outputs": [
        {
          "data": {
            "text/plain": [
              "[HumanMessage(content='Who walked on the moon for the first time? Print only the name', additional_kwargs={}, response_metadata={}, id='f1b10536-dac1-4657-a87d-7b7c7fd63edf'),\n",
              " AIMessage(content='Neil Armstrong', additional_kwargs={}, response_metadata={'prompt_feedback': {'block_reason': 0, 'safety_ratings': []}, 'finish_reason': 'STOP', 'model_name': 'gemini-1.5-flash', 'safety_ratings': []}, id='run--affb66b9-e689-42f0-b8dc-06c9b5df6b44-0', usage_metadata={'input_tokens': 14, 'output_tokens': 3, 'total_tokens': 17, 'input_token_details': {'cache_read': 0}})]"
            ]
          },
          "execution_count": 18,
          "metadata": {},
          "output_type": "execute_result"
        }
      ],
      "source": [
        "message = {\"role\": \"user\", \"content\": \"Who walked on the moon for the first time? Print only the name\"}\n",
        "response = graph.invoke({\"messages\" : [message]})\n",
        "\n",
        "response [\"messages\" ]"
      ]
    },
    {
      "cell_type": "code",
      "execution_count": null,
      "metadata": {
        "colab": {
          "base_uri": "https://localhost:8080/"
        },
        "id": "SfExdc5Yxttq",
        "outputId": "3a4e4209-9755-40be-a967-d92cc41c4dd3"
      },
      "outputs": [
        {
          "name": "stdout",
          "output_type": "stream",
          "text": [
            "You: who is father of india\n",
            "Bot: The term \"Father of India\" is most commonly associated with **Mahatma Gandhi**.  While he didn't hold any official title, his leadership of the Indian independence movement and his profound influence on the nation's philosophy and identity earned him this title.  It's important to note that many other leaders played crucial roles in India's independence, and attributing this title to a single person simplifies a complex historical process.\n",
            "You: when he born\n",
            "Bot: Mahatma Gandhi was born on **October 2, 1869**.\n",
            "You: what is 2 + 2\n",
            "Bot: 2 + 2 = 4\n",
            "You: when he died\n",
            "Bot: Mahatma Gandhi died on **January 30, 1948**.\n",
            "You: thanks\n",
            "Bot: You're welcome!  Is there anything else I can help you with?\n",
            "You: no\n",
            "Bot: Okay, have a great day!\n",
            "You: who is her wife\n",
            "Bot: Mahatma Gandhi's wife was **Kasturbai Mohandas Gandhi**.\n",
            "You: wxit\n",
            "Bot: I believe you may have misspelled \"exit.\"  If you'd like to end our conversation, just let me know.  If you have any other questions, I'm happy to help.\n",
            "You: exit\n"
          ]
        }
      ],
      "source": [
        "state = None\n",
        "while True:\n",
        "  in_message = input(\"You: \")\n",
        "  if in_message. lower() in {\"quit\", \"exit\"}:\n",
        "    break\n",
        "  if state is None:\n",
        "    state: State = {\"messages\": [{\"role\": \"user\", \"content\": in_message}]}\n",
        "  else:\n",
        "    state [\"messages\"]. append ({\"role\": \"user\",\"content\": in_message})\n",
        "\n",
        "  state = graph. invoke(state)\n",
        "  print (\"Bot:\", state[\"messages\"][-1].content)"
      ]
    },
    {
      "cell_type": "markdown",
      "metadata": {
        "id": "XUxgRgBq_eUt"
      },
      "source": [
        "## Chatbot with tool integration"
      ]
    },
    {
      "cell_type": "code",
      "execution_count": null,
      "metadata": {
        "id": "GeHRD207AG8t"
      },
      "outputs": [],
      "source": [
        "from typing_extensions import TypedDict\n",
        "from langchain.chat_models import init_chat_model\n",
        "from langgraph.graph import StateGraph, START, END\n",
        "from langgraph.graph.message import add_messages\n",
        "from typing import Annotated\n",
        "from langchain.agents import AgentType, initialize_agent, load_tools\n",
        "from langchain_google_vertexai import ChatVertexAI\n",
        "from langchain_google_genai import ChatGoogleGenerativeAI\n",
        "import os\n",
        "from langchain_core.tools import tool\n",
        "from langgraph.prebuilt import ToolNode, tools_condition\n",
        "from langgraph.checkpoint.memory import MemorySaver"
      ]
    },
    {
      "cell_type": "code",
      "execution_count": null,
      "metadata": {
        "colab": {
          "base_uri": "https://localhost:8080/",
          "height": 266
        },
        "id": "PCkYfrZhzCd8",
        "outputId": "0df666b6-9da7-465c-ef55-f7e8dac54144"
      },
      "outputs": [
        {
          "data": {
            "image/png": "[encoded data removed]",
            "text/plain": [
              "<IPython.core.display.Image object>"
            ]
          },
          "metadata": {},
          "output_type": "display_data"
        }
      ],
      "source": [
        "@tool\n",
        "def get_stock_price(symbol: str) -> float:\n",
        "  '''Return the current price of a stock given the stock symbol example (GOOGLE,AAPL, AMZN, TATA)\n",
        "  :param symbol: stock symbol\n",
        "  :return: current price of the stock\n",
        "  '''\n",
        "  return {\n",
        "      \"GOOGLE\" : 200.3,\n",
        "      \"AAPL\": 100.4,\n",
        "      \"AMZN\": 150.0,\n",
        "      \"TATA\": 87.6\n",
        "}.get(symbol, 0.0)\n",
        "\n",
        "# ✨ NEW TOOL\n",
        "@tool\n",
        "def get_person_full_name(code: str) -> str:\n",
        "    \"\"\"Return the full name of a person for a given short code.\n",
        "\n",
        "    :param code: abbreviation / initials / handle\n",
        "    :return: full name of the person\n",
        "    \"\"\"\n",
        "    directory = {\n",
        "        \"APJ\": \"Avul Pakir Jainulabdeen Abdul Kalam\",\n",
        "        \"SRK\": \"Shah Rukh Khan\",\n",
        "        \"MSD\": \"Mahendra Singh Dhoni\",\n",
        "        \"TS\":  \"Taylor Swift\",\n",
        "    }\n",
        "    return directory.get(code.upper(), \"\")\n",
        "\n",
        "\n",
        "tools = [get_stock_price, get_person_full_name]\n",
        "memory = MemorySaver() # defining memory obj\n",
        "\n",
        "# Initialize Gemini (e.g., Gemini 1.5 Flash)\n",
        "llm = ChatGoogleGenerativeAI(model=\"gemini-1.5-flash\", google_api_key=\"xxxx\")\n",
        "\n",
        "llm_with_tools = llm.bind_tools(tools)\n",
        "\n",
        "class State(TypedDict):\n",
        "  messages: Annotated [list, add_messages]\n",
        "\n",
        "def chatbot(state: State) -> State:\n",
        "  return {\"messages\": [llm_with_tools.invoke(state[\"messages\"]) ]}\n",
        "\n",
        "builder = StateGraph(State)\n",
        "builder.add_node(\"chatbot_node\", chatbot)\n",
        "builder.add_node(\"tools\", ToolNode(tools))\n",
        "\n",
        "builder.add_edge(START, \"chatbot_node\")\n",
        "builder.add_conditional_edges(\"chatbot_node\", tools_condition)\n",
        "builder.add_edge(\"tools\", \"chatbot_node\")\n",
        "# builder. add_edge(\"chatbot_node\", END)\n",
        "\n",
        "graph = builder.compile(checkpointer = memory)\n",
        "\n",
        "from IPython.display import Image, display\n",
        "display(Image(graph.get_graph().draw_mermaid_png()))\n"
      ]
    },
    {
      "cell_type": "markdown",
      "metadata": {
        "id": "HVidhDYFycrQ"
      },
      "source": [
        "* **Issue with this approach is if i ask to perform 2 3 operation on tools it is not able to figure it out, so add the reverse node from tool to chatbot**\n",
        "\n",
        " - ` builder.add_edge(\"tools\", \"chatbot_node\") `\n",
        "\n",
        "* Add the memory to agent to remember past conversion\n",
        " - `from langgraph.checkpoint.memory import MemorySaver`\n",
        " ```\n",
        " memory = MemorySaver()\n",
        " ```\n"
      ]
    },
    {
      "cell_type": "code",
      "execution_count": null,
      "metadata": {
        "colab": {
          "base_uri": "https://localhost:8080/"
        },
        "id": "svxkrGbLCnFJ",
        "outputId": "9cdd41d2-f8b9-4565-8967-6ca15af8fad5"
      },
      "outputs": [
        {
          "name": "stdout",
          "output_type": "stream",
          "text": [
            "The full name of APJ is Avul Pakir Jainulabdeen Abdul Kalam.\n"
          ]
        }
      ],
      "source": [
        "config = {'configurable' : {\"thread_id\" : 1}}\n",
        "state = graph.invoke({\"messages\" : [{\"role\": \"user\", \"content\": \"what is the full name of APJ\"}]}, config = config)\n",
        "print(state['messages'][-1].content)\n",
        "# print(state)"
      ]
    },
    {
      "cell_type": "code",
      "execution_count": null,
      "metadata": {
        "colab": {
          "base_uri": "https://localhost:8080/"
        },
        "id": "mzUCHn_rGxWm",
        "outputId": "ca0531f3-d4b3-48b8-de0e-fca47a735c6f"
      },
      "outputs": [
        {
          "name": "stdout",
          "output_type": "stream",
          "text": [
            "The stock price of GOOGLE is $200.3 and the stock price of TATA is $87.6.  Therefore, the total stock price of both is $287.9.\n"
          ]
        }
      ],
      "source": [
        "state = graph.invoke({\"messages\" : [{\"role\": \"user\", \"content\": \"what is total  stock price of GOOGLE and TATA\"}]},  config = config)\n",
        "print(state['messages'][-1].content)\n",
        "# print(state)"
      ]
    },
    {
      "cell_type": "code",
      "execution_count": null,
      "metadata": {
        "colab": {
          "base_uri": "https://localhost:8080/"
        },
        "id": "DCqtS0H9xF7v",
        "outputId": "9dea3616-c206-4a55-d50e-3becaaead157"
      },
      "outputs": [
        {
          "name": "stdout",
          "output_type": "stream",
          "text": [
            "The stock price of AAPL is $100.4.  Therefore, the total stock price of GOOGLE, TATA, and AAPL is $200.3 + $87.6 + $100.4 = $388.3\n"
          ]
        }
      ],
      "source": [
        "state = graph.invoke({\"messages\" : [{\"role\": \"user\", \"content\": \"can u also add the AAPL stock price\"}]},  config = config)\n",
        "print(state['messages'][-1].content)"
      ]
    },
    {
      "cell_type": "code",
      "execution_count": null,
      "metadata": {
        "colab": {
          "base_uri": "https://localhost:8080/"
        },
        "id": "d9gM6aQxQNN8",
        "outputId": "7d20695d-f6cf-4ff2-93b4-62a768c8fa9d"
      },
      "outputs": [
        {
          "name": "stdout",
          "output_type": "stream",
          "text": [
            "The full name of APJ is Avul Pakir Jainulabdeen Abdul Kalam and the stock price of GOOGLE is $200.3.\n"
          ]
        }
      ],
      "source": [
        "state = graph.invoke({\"messages\" : [{\"role\": \"user\", \"content\": \"what is the full name of APJ and stock price of GOOGLE\"}]},  config = config)\n",
        "print(state['messages'][-1].content)\n",
        "# print(state)"
      ]
    },
    {
      "cell_type": "markdown",
      "metadata": {
        "id": "BKWEkvE6Ql6v"
      },
      "source": [
        "* Now we can say workflow is agentic"
      ]
    },
    {
      "cell_type": "markdown",
      "metadata": {
        "id": "m4lUN_5p0mD7"
      },
      "source": [
        "# Human in the loop (HITL)\n",
        " - Agent will ask for human approval for doing critical task\n",
        " - Here we are intrupting tool agentic call and it will be resumed by human approval\n",
        " - To achive this we will we `interrupt` and `resume` from langgraph"
      ]
    },
    {
      "cell_type": "code",
      "execution_count": null,
      "metadata": {
        "colab": {
          "base_uri": "https://localhost:8080/",
          "height": 266
        },
        "id": "yFT8ppkdQjEQ",
        "outputId": "ff997191-ceef-49fc-fd0c-15104211b9c6"
      },
      "outputs": [
        {
          "data": {
            "image/png": "[encoded data removed]",
            "text/plain": [
              "<IPython.core.display.Image object>"
            ]
          },
          "metadata": {},
          "output_type": "display_data"
        }
      ],
      "source": [
        "from typing_extensions import TypedDict\n",
        "from langchain.chat_models import init_chat_model\n",
        "from langgraph.graph import StateGraph, START, END\n",
        "from langgraph.graph.message import add_messages\n",
        "from typing import Annotated\n",
        "from langchain.agents import AgentType, initialize_agent, load_tools\n",
        "from langchain_google_vertexai import ChatVertexAI\n",
        "from langchain_google_genai import ChatGoogleGenerativeAI\n",
        "import os\n",
        "from langchain_core.tools import tool\n",
        "from langgraph.prebuilt import ToolNode, tools_condition\n",
        "from langgraph.checkpoint.memory import MemorySaver\n",
        "from langgraph.types import interrupt, Command\n",
        "\n",
        "# this will maintain the state of graph\n",
        "class State(TypedDict):\n",
        "  messages: Annotated [list, add_messages]\n",
        "\n",
        "@tool\n",
        "def get_stock_price(symbol: str) -> float:\n",
        "  '''Return the current price of a stock given the stock symbol example (GOOGLE,AAPL, AMZN, TATA)\n",
        "  :param symbol: stock symbol\n",
        "  :return: current price of the stock\n",
        "  '''\n",
        "  return {\n",
        "      \"GOOGLE\" : 200.3,\n",
        "      \"AAPL\": 100.4,\n",
        "      \"AMZN\": 150.0,\n",
        "      \"TATA\": 87.6\n",
        "}.get(symbol, 0.0)\n",
        "\n",
        "@tool\n",
        "def get_person_full_name(code: str) -> str:\n",
        "    \"\"\"Return the full name of a person for a given short code.\n",
        "\n",
        "    :param code: abbreviation / initials / handle\n",
        "    :return: full name of the person\n",
        "    \"\"\"\n",
        "    directory = {\n",
        "        \"APJ\": \"Avul Pakir Jainulabdeen Abdul Kalam\",\n",
        "        \"SRK\": \"Shah Rukh Khan\",\n",
        "        \"MSD\": \"Mahendra Singh Dhoni\",\n",
        "        \"TS\":  \"Taylor Swift\",\n",
        "    }\n",
        "    return directory.get(code.upper(), \"\")\n",
        "\n",
        "@tool\n",
        "def buy_stocks (symbol: str, quantity: int, total_price: float) -> str:\n",
        "  '''Buy stocks given the stock symbol and quantity'''\n",
        "  decision = interrupt(f\"Approve buying {quantity} shares of {symbol} for a total price of {total_price}\")\n",
        "\n",
        "  if decision == 'yes':\n",
        "    return f\"You bought {quantity} shares of {symbol} for a total price of {total_price}\"\n",
        "  else:\n",
        "    return f\"You decided not to buy {quantity} shares of {symbol} for a total price of {total_price}\"\n",
        "\n",
        "tools = [get_stock_price, get_person_full_name, buy_stocks]\n",
        "memory = MemorySaver() # defining memory obj\n",
        "\n",
        "# Initialize Gemini\n",
        "llm = ChatGoogleGenerativeAI(model=\"gemini-1.5-flash\", google_api_key=\"xxxx\")\n",
        "\n",
        "llm_with_tools = llm.bind_tools(tools)\n",
        "\n",
        "\n",
        "def chatbot(state: State) -> State:\n",
        "  return {\"messages\": [llm_with_tools.invoke(state[\"messages\"]) ]}\n",
        "\n",
        "builder = StateGraph(State)\n",
        "builder.add_node(\"chatbot_node\", chatbot)\n",
        "builder.add_node(\"tools\", ToolNode(tools))\n",
        "\n",
        "builder.add_edge(START, \"chatbot_node\")\n",
        "builder.add_conditional_edges(\"chatbot_node\", tools_condition)\n",
        "builder.add_edge(\"tools\", \"chatbot_node\")\n",
        "# builder. add_edge(\"chatbot_node\", END)\n",
        "\n",
        "graph = builder.compile(checkpointer = memory)\n",
        "\n",
        "from IPython.display import Image, display\n",
        "display(Image(graph.get_graph().draw_mermaid_png()))\n"
      ]
    },
    {
      "cell_type": "code",
      "execution_count": null,
      "metadata": {
        "colab": {
          "base_uri": "https://localhost:8080/"
        },
        "id": "COgGuXfSO_aJ",
        "outputId": "1aecffdd-c35e-45ce-cde0-66354b7f6648"
      },
      "outputs": [
        {
          "name": "stdout",
          "output_type": "stream",
          "text": [
            "\n",
            "Approve (yes/no)no\n",
            "OK. You decided not to buy 10 shares of AAPL for a total price of 1004.0.\n"
          ]
        }
      ],
      "source": [
        "state = graph.invoke({\"messages\" : [{\"role\": \"user\", \"content\": \"buy 10 shared of AAPL stock at current price\"}]},  config = config)\n",
        "print(state['messages'][-1].content)\n",
        "\n",
        "decision = input(\"Approve (yes/no)\")\n",
        "state = graph.invoke(Command(resume=decision), config = config)\n",
        "print(state['messages'][-1].content)\n"
      ]
    },
    {
      "cell_type": "code",
      "execution_count": null,
      "metadata": {
        "id": "BkjLrakx3Pou"
      },
      "outputs": [],
      "source": []
    }
  ],
  "metadata": {
    "colab": {
      "provenance": [],
      "toc_visible": true
    },
    "kernelspec": {
      "display_name": "Python 3",
      "name": "python3"
    },
    "language_info": {
      "name": "python"
    }
  },
  "nbformat": 4,
  "nbformat_minor": 0
}
